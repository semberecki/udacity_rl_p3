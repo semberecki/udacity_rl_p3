{
 "cells": [
  {
   "cell_type": "markdown",
   "metadata": {},
   "source": [
    "# Collaboration and Competition\n",
    "\n",
    "---\n",
    "\n",
    "In this notebook, you will learn how to use the Unity ML-Agents environment for the third project of the [Deep Reinforcement Learning Nanodegree](https://www.udacity.com/course/deep-reinforcement-learning-nanodegree--nd893) program.\n",
    "\n",
    "### 1. Start the Environment\n",
    "\n",
    "We begin by importing the necessary packages.  If the code cell below returns an error, please revisit the project instructions to double-check that you have installed [Unity ML-Agents](https://github.com/Unity-Technologies/ml-agents/blob/master/docs/Installation.md) and [NumPy](http://www.numpy.org/)."
   ]
  },
  {
   "cell_type": "code",
   "execution_count": 1,
   "metadata": {},
   "outputs": [],
   "source": [
    "from unityagents import UnityEnvironment\n",
    "import numpy as np"
   ]
  },
  {
   "cell_type": "markdown",
   "metadata": {},
   "source": [
    "Next, we will start the environment!  **_Before running the code cell below_**, change the `file_name` parameter to match the location of the Unity environment that you downloaded.\n",
    "\n",
    "- **Mac**: `\"path/to/Tennis.app\"`\n",
    "- **Windows** (x86): `\"path/to/Tennis_Windows_x86/Tennis.exe\"`\n",
    "- **Windows** (x86_64): `\"path/to/Tennis_Windows_x86_64/Tennis.exe\"`\n",
    "- **Linux** (x86): `\"path/to/Tennis_Linux/Tennis.x86\"`\n",
    "- **Linux** (x86_64): `\"path/to/Tennis_Linux/Tennis.x86_64\"`\n",
    "- **Linux** (x86, headless): `\"path/to/Tennis_Linux_NoVis/Tennis.x86\"`\n",
    "- **Linux** (x86_64, headless): `\"path/to/Tennis_Linux_NoVis/Tennis.x86_64\"`\n",
    "\n",
    "For instance, if you are using a Mac, then you downloaded `Tennis.app`.  If this file is in the same folder as the notebook, then the line below should appear as follows:\n",
    "```\n",
    "env = UnityEnvironment(file_name=\"Tennis.app\")\n",
    "```"
   ]
  },
  {
   "cell_type": "code",
   "execution_count": 2,
   "metadata": {},
   "outputs": [
    {
     "name": "stderr",
     "output_type": "stream",
     "text": [
      "INFO:unityagents:\n",
      "'Academy' started successfully!\n",
      "Unity Academy name: Academy\n",
      "        Number of Brains: 1\n",
      "        Number of External Brains : 1\n",
      "        Lesson number : 0\n",
      "        Reset Parameters :\n",
      "\t\t\n",
      "Unity brain name: TennisBrain\n",
      "        Number of Visual Observations (per agent): 0\n",
      "        Vector Observation space type: continuous\n",
      "        Vector Observation space size (per agent): 8\n",
      "        Number of stacked Vector Observation: 3\n",
      "        Vector Action space type: continuous\n",
      "        Vector Action space size (per agent): 2\n",
      "        Vector Action descriptions: , \n"
     ]
    }
   ],
   "source": [
    "env = UnityEnvironment(file_name=\"./Tennis_Linux/Tennis.x86_64\")"
   ]
  },
  {
   "cell_type": "markdown",
   "metadata": {},
   "source": [
    "Environments contain **_brains_** which are responsible for deciding the actions of their associated agents. Here we check for the first brain available, and set it as the default brain we will be controlling from Python."
   ]
  },
  {
   "cell_type": "code",
   "execution_count": 3,
   "metadata": {},
   "outputs": [],
   "source": [
    "# get the default brain\n",
    "brain_name = env.brain_names[0]\n",
    "brain = env.brains[brain_name]"
   ]
  },
  {
   "cell_type": "markdown",
   "metadata": {},
   "source": [
    "### 2. Examine the State and Action Spaces\n",
    "\n",
    "In this environment, two agents control rackets to bounce a ball over a net. If an agent hits the ball over the net, it receives a reward of +0.1.  If an agent lets a ball hit the ground or hits the ball out of bounds, it receives a reward of -0.01.  Thus, the goal of each agent is to keep the ball in play.\n",
    "\n",
    "The observation space consists of 8 variables corresponding to the position and velocity of the ball and racket. Two continuous actions are available, corresponding to movement toward (or away from) the net, and jumping. \n",
    "\n",
    "Run the code cell below to print some information about the environment."
   ]
  },
  {
   "cell_type": "code",
   "execution_count": 4,
   "metadata": {},
   "outputs": [
    {
     "name": "stdout",
     "output_type": "stream",
     "text": [
      "Number of agents: 2\n",
      "Size of each action: 2\n",
      "There are 2 agents. Each observes a state with length: 24\n",
      "The state for the first agent looks like: [ 0.          0.          0.          0.          0.          0.\n",
      "  0.          0.          0.          0.          0.          0.\n",
      "  0.          0.          0.          0.         -6.65278625 -1.5\n",
      " -0.          0.          6.83172083  6.         -0.          0.        ]\n"
     ]
    }
   ],
   "source": [
    "# reset the environment\n",
    "env_info = env.reset(train_mode=True)[brain_name]\n",
    "\n",
    "# number of agents \n",
    "num_agents = len(env_info.agents)\n",
    "print('Number of agents:', num_agents)\n",
    "\n",
    "# size of each action\n",
    "action_size = brain.vector_action_space_size\n",
    "print('Size of each action:', action_size)\n",
    "\n",
    "# examine the state space \n",
    "states = env_info.vector_observations\n",
    "state_size = states.shape[1]\n",
    "print('There are {} agents. Each observes a state with length: {}'.format(states.shape[0], state_size))\n",
    "print('The state for the first agent looks like:', states[0])"
   ]
  },
  {
   "cell_type": "markdown",
   "metadata": {},
   "source": [
    "### Solution\n"
   ]
  },
  {
   "cell_type": "code",
   "execution_count": 5,
   "metadata": {},
   "outputs": [],
   "source": [
    "import os\n",
    "import shutil\n",
    "from tensorboardX import SummaryWriter\n",
    "log_path = os.getcwd()+\"/log_jup\"\n",
    "\n",
    "if os.path.exists(log_path):\n",
    "    shutil.rmtree(log_path)\n",
    "\n",
    "logger = SummaryWriter(log_dir=log_path)"
   ]
  },
  {
   "cell_type": "code",
   "execution_count": 6,
   "metadata": {},
   "outputs": [
    {
     "name": "stdout",
     "output_type": "stream",
     "text": [
      "Episode 10\tAverage Score: 0.01000\tCurrent Score: 0.00000 -0.01000\n",
      "Episode 20\tAverage Score: 0.00500\tCurrent Score: -0.01000 0.00000\n",
      "Episode 30\tAverage Score: 0.01567\tCurrent Score: 0.00000 -0.01000\n",
      "Episode 40\tAverage Score: 0.01425\tCurrent Score: 0.00000 -0.01000\n",
      "Episode 50\tAverage Score: 0.01140\tCurrent Score: -0.01000 0.00000\n",
      "Episode 60\tAverage Score: 0.00950\tCurrent Score: 0.00000 -0.01000\n",
      "Episode 70\tAverage Score: 0.01100\tCurrent Score: -0.01000 0.00000\n",
      "Episode 80\tAverage Score: 0.01088\tCurrent Score: -0.01000 0.00000\n",
      "Episode 90\tAverage Score: 0.01411\tCurrent Score: 0.00000 -0.01000\n",
      "Episode 100\tAverage Score: 0.01460\tCurrent Score: 0.00000 0.09000\n",
      "Episode 110\tAverage Score: 0.01650\tCurrent Score: -0.01000 0.00000\n",
      "Episode 120\tAverage Score: 0.02040\tCurrent Score: 0.00000 -0.01000\n",
      "Episode 130\tAverage Score: 0.01670\tCurrent Score: 0.00000 -0.01000\n",
      "Episode 140\tAverage Score: 0.02060\tCurrent Score: 0.10000 -0.01000\n",
      "Episode 150\tAverage Score: 0.02460\tCurrent Score: 0.00000 -0.01000\n",
      "Episode 160\tAverage Score: 0.03160\tCurrent Score: 0.00000 -0.01000\n",
      "Episode 170\tAverage Score: 0.03830\tCurrent Score: 0.10000 -0.01000\n",
      "Episode 180\tAverage Score: 0.04320\tCurrent Score: -0.01000 0.00000\n",
      "Episode 190\tAverage Score: 0.04290\tCurrent Score: 0.00000 -0.01000\n",
      "Episode 200\tAverage Score: 0.04670\tCurrent Score: -0.01000 0.00000\n",
      "Episode 210\tAverage Score: 0.05150\tCurrent Score: 0.09000 0.100000\n",
      "Episode 220\tAverage Score: 0.05720\tCurrent Score: -0.01000 0.10000\n",
      "Episode 230\tAverage Score: 0.07110\tCurrent Score: 0.10000 -0.01000\n",
      "Episode 240\tAverage Score: 0.07910\tCurrent Score: 0.09000 0.100000\n",
      "Episode 250\tAverage Score: 0.10100\tCurrent Score: 0.10000 0.090000\n",
      "Episode 260\tAverage Score: 0.10560\tCurrent Score: 0.00000 0.090000\n",
      "Episode 270\tAverage Score: 0.10650\tCurrent Score: 0.20000 -0.01000\n",
      "Episode 280\tAverage Score: 0.11120\tCurrent Score: 0.09000 0.200000\n",
      "Episode 290\tAverage Score: 0.13210\tCurrent Score: 0.19000 0.300000\n",
      "Episode 300\tAverage Score: 0.17310\tCurrent Score: 0.10000 -0.01000\n",
      "Episode 310\tAverage Score: 0.18230\tCurrent Score: 0.10000 0.090000\n",
      "Episode 320\tAverage Score: 0.26150\tCurrent Score: 0.89000 1.000000\n",
      "Episode 330\tAverage Score: 0.30360\tCurrent Score: 0.39000 0.500000\n",
      "Episode 340\tAverage Score: 0.37170\tCurrent Score: 0.89000 1.000000\n",
      "Episode 350\tAverage Score: 0.43180\tCurrent Score: 0.50000 0.490000\n",
      "Episode 360\tAverage Score: 0.45910\tCurrent Score: 1.40000 1.390000\n",
      "Episode 370\tAverage Score: 0.47650\tCurrent Score: 0.09000 0.100000\n",
      "Episode 373\tAverage Score: 0.51860\tCurrent Score: 2.10000 2.09000\n",
      "Environment solved in 273 episodes!\tAverage Score: 0.52\n"
     ]
    }
   ],
   "source": [
    "from main import Agent, plot_results\n",
    "from maddpg_loop import maddpg\n",
    "agent1 = Agent(state_size=state_size, action_size=action_size, random_seed=0, agent_number=0, logger=logger)\n",
    "agent2 = Agent(state_size=state_size, action_size=action_size, random_seed=0, agent_number=1, logger=logger)\n",
    "scores = maddpg(env, agent1, agent2, n_episodes=3000, checkpoints_dir=\"checkpoints_jup\")"
   ]
  },
  {
   "cell_type": "code",
   "execution_count": 7,
   "metadata": {},
   "outputs": [
    {
     "data": {
      "image/png": "[encoded data removed]",
      "text/plain": [
       "<Figure size 432x288 with 1 Axes>"
      ]
     },
     "metadata": {
      "needs_background": "light"
     },
     "output_type": "display_data"
    }
   ],
   "source": [
    "plot_results(scores)"
   ]
  },
  {
   "cell_type": "code",
   "execution_count": 8,
   "metadata": {},
   "outputs": [],
   "source": [
    "log_path = os.getcwd()+\"/log_jup_eval\"\n",
    "\n",
    "if os.path.exists(log_path):\n",
    "    shutil.rmtree(log_path)\n",
    "\n",
    "logger_eval = SummaryWriter(log_dir=log_path)"
   ]
  },
  {
   "cell_type": "code",
   "execution_count": null,
   "metadata": {},
   "outputs": [],
   "source": [
    "from main import Agent, plot_results\n",
    "from maddpg_loop import maddpg\n",
    "import torch \n",
    "checkpoint_path=\"checkpoints_jup/checkpoint.pt\"\n",
    "\n",
    "agent1_eval = Agent(state_size=state_size, action_size=action_size, random_seed=0, agent_number=0, logger=logger_eval)\n",
    "agent2_eval = Agent(state_size=state_size, action_size=action_size, random_seed=0, agent_number=1, logger=logger_eval)\n",
    "\n",
    "agent1_eval.actor_local.load_state_dict(torch.load(checkpoint_path)[0]['actor_params'])\n",
    "agent1_eval.actor_optimizer.load_state_dict(torch.load(checkpoint_path)[0]['actor_optim_params'])\n",
    "agent1_eval.critic_local.load_state_dict(torch.load(checkpoint_path)[0]['critic_params'])\n",
    "agent1_eval.critic_optimizer.load_state_dict(torch.load(checkpoint_path)[0]['critic_optim_params'])\n",
    "\n",
    "agent2_eval.actor_local.load_state_dict(torch.load(checkpoint_path)[1]['actor_params'])\n",
    "agent2_eval.actor_optimizer.load_state_dict(torch.load(checkpoint_path)[1]['actor_optim_params'])\n",
    "agent2_eval.critic_local.load_state_dict(torch.load(checkpoint_path)[1]['critic_params'])\n",
    "agent2_eval.critic_optimizer.load_state_dict(torch.load(checkpoint_path)[1]['critic_optim_params'])\n",
    "\n",
    "scores_eval = maddpg(env, agent1_eval, agent2_eval, n_episodes=100, \n",
    "                     train_mode=False,update_network=False, score_list_len=100,\n",
    "                    save_temp_checkpoints=False, print_scores=False)"
   ]
  },
  {
   "cell_type": "code",
   "execution_count": 10,
   "metadata": {},
   "outputs": [
    {
     "data": {
      "image/png": "[encoded data removed]",
      "text/plain": [
       "<Figure size 432x288 with 1 Axes>"
      ]
     },
     "metadata": {
      "needs_background": "light"
     },
     "output_type": "display_data"
    }
   ],
   "source": [
    "plot_results(scores_eval)"
   ]
  },
  {
   "cell_type": "code",
   "execution_count": 11,
   "metadata": {},
   "outputs": [],
   "source": [
    "env.close()"
   ]
  }
 ],
 "metadata": {
  "kernelspec": {
   "display_name": "Python 3",
   "language": "python",
   "name": "python3"
  },
  "language_info": {
   "codemirror_mode": {
    "name": "ipython",
    "version": 3
   },
   "file_extension": ".py",
   "mimetype": "text/x-python",
   "name": "python",
   "nbconvert_exporter": "python",
   "pygments_lexer": "ipython3",
   "version": "3.6.13"
  }
 },
 "nbformat": 4,
 "nbformat_minor": 2
}
